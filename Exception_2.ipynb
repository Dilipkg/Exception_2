{
 "cells": [
  {
   "cell_type": "markdown",
   "id": "91319fd9-d1db-45a0-8ee6-398cfca085ed",
   "metadata": {},
   "source": [
    "#Q1.Explain why we have to use the Exception class while creating a Custom Exception.\n",
    "\n",
    "#A.\n",
    "in python ,we can define custome execption by creating a new class that is delivered from the built in Execption\n",
    "when we aredeveloping a large python program,it is good paractice to place all the user defined execption that progrAM raise in seprate file.\n",
    "Many standered modules define their execptions separatly as execption/py or error.py."
   ]
  },
  {
   "cell_type": "markdown",
   "id": "a5a4e673-004e-4b77-ac55-c36095c2153a",
   "metadata": {},
   "source": [
    "#Q2. Write a python program to print Python Exception Hierarchy.\n",
    "\n",
    "import inspect\n",
    "\n",
    "def treeClass(cls, ind=0):\n",
    "    print('-' * ind, cls.__name__)\n",
    "    for i in cls.__subclasses__():\n",
    "        treeClass(i, ind+3)\n",
    "print(\"Hierarchy for Build-in exception is :\")\n",
    "\n",
    "inspect.getclasstree(inspect.getmro(BaseException))\n",
    "\n",
    "treeClass(BaseException)\n",
    "\n",
    "    "
   ]
  },
  {
   "cell_type": "markdown",
   "id": "943227a8-e02d-4a92-aa23-0c46ba5a12f9",
   "metadata": {},
   "source": [
    "#Q3. What errors are defined in the ArithmeticError class? Explain any two with an example.\n",
    "this class is the base class for those built-in exception that are raised for variousarithmetics error\n",
    "a.\n",
    "try:\n",
    "    100/0\n",
    "except ZeroDivisionError as e:\n",
    "    print(e)\n",
    "b.\n",
    "try: \n",
    "    int(\"dilip\")\n",
    "except (ValueError,TypeError) as e:\n",
    "    print(e)"
   ]
  },
  {
   "cell_type": "markdown",
   "id": "572d58d6-a5aa-4a3e-b9e0-b4098f5010d6",
   "metadata": {},
   "source": [
    "#Q4.Why LookupError class is used? Explain with an example KeyError and IndexError.\n",
    "\n",
    "The LookupError exception in Python forms the base class for all exceptions that are raised when an index or a key is not found for a sequence or dictionary respectively.\n",
    "keyerror- when you not found key.\n",
    "Ex.\n",
    "fruits = {'apple': 1, 'banana': 2, 'orange': 3}\n",
    "input_f=input(\"enter the fruits name find series num.\")\n",
    "\n",
    "try:\n",
    "    \n",
    "    print(f'{input_f} is {fruits[input_f]}')  \n",
    "\n",
    "except LookupError as e:\n",
    "    print(f'{e}, {e.__class__}')\n",
    "\n",
    "IndexError- when we have not found index found.\n",
    "\n",
    "x = [1, 2, 3, 4]\n",
    "try:\n",
    "    print(x[10])\n",
    "except LookupError as e:\n",
    "    print(f\"{e}, {e.__class__}\")"
   ]
  },
  {
   "cell_type": "markdown",
   "id": "f767be8b-6eb0-4b54-8470-f0d6e2aa5cae",
   "metadata": {},
   "source": [
    "#Q5. Explain ImportError. What is ModuleNotFoundError?\n",
    "A.\n",
    "indicates that you tried to import a module that python does not find.\n",
    "python's imorterror(ModuleNotFoundError).\n",
    "Python raises ModuleNotFoundError when a Python module is not able to be found. This exception catches a much narrow range of faults than the parent exception ImportError."
   ]
  },
  {
   "cell_type": "markdown",
   "id": "b39dabc3-cd8f-480d-b20c-2ed7d98a1004",
   "metadata": {},
   "source": [
    "#Q6. List down some best practices for exception handling in python.\n",
    "ArithmeticError - raise when an error occure in numeric calculaters\n",
    "IndexError - raise when  an index of a sequence does not exist.\n",
    "KeyError -\tRaised when a key does not exist in a dictionary\n",
    "ImportError\t- Raised when an imported module does not exist\n",
    "LookupError - Raised when errors raised cant be found\n",
    "NameError - Raised when a variable does not exist \n",
    "SyntaxError\t- Raised when a syntax error occurs\n",
    "RuntimeError - Raised when an error occurs that do not belong to any specific exception"
   ]
  },
  {
   "cell_type": "code",
   "execution_count": null,
   "id": "71defec2-297b-42d2-b531-1ca2ed281178",
   "metadata": {},
   "outputs": [],
   "source": []
  }
 ],
 "metadata": {
  "kernelspec": {
   "display_name": "Python 3 (ipykernel)",
   "language": "python",
   "name": "python3"
  },
  "language_info": {
   "codemirror_mode": {
    "name": "ipython",
    "version": 3
   },
   "file_extension": ".py",
   "mimetype": "text/x-python",
   "name": "python",
   "nbconvert_exporter": "python",
   "pygments_lexer": "ipython3",
   "version": "3.10.8"
  }
 },
 "nbformat": 4,
 "nbformat_minor": 5
}
